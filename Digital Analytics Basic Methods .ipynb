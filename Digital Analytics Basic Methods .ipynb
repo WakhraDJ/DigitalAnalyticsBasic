{
 "cells": [
  {
   "cell_type": "code",
   "execution_count": 45,
   "id": "b70f24c5",
   "metadata": {},
   "outputs": [],
   "source": [
    "import numpy as np\n",
    "import pandas as pd"
   ]
  },
  {
   "cell_type": "code",
   "execution_count": 46,
   "id": "593aae55",
   "metadata": {},
   "outputs": [],
   "source": [
    "#Set Variables \n",
    "\n",
    "sessions=30000\n",
    "users=26000\n",
    "newUsers=14659\n",
    "uniqueUsers=21346\n",
    "totalBounces=2300\n",
    "beginCheckout=14000\n",
    "completedOrders=3276\n",
    "totalRevenue=34569\n",
    "organicSessions=19000\n",
    "paidSessions=7000\n",
    "referralSessions=3000\n",
    "socialSessions=1000\n",
    "organicPurchase=19000\n",
    "paidPurchase=7000\n",
    "referralPurchase=3000\n",
    "socialPurchase=1000\n",
    "adSpend=129903"
   ]
  },
  {
   "cell_type": "code",
   "execution_count": 47,
   "id": "0f1174f1",
   "metadata": {},
   "outputs": [
    {
     "data": {
      "text/plain": [
       "7.666666666666666"
      ]
     },
     "execution_count": 47,
     "metadata": {},
     "output_type": "execute_result"
    }
   ],
   "source": [
    "#Now Let's start with basics:\n",
    "\n",
    "\n",
    "#Bounce rate\n",
    "\n",
    "bounceRate = (totalBounces/sessions)*100\n",
    "bounceRate"
   ]
  },
  {
   "cell_type": "code",
   "execution_count": 48,
   "id": "d35d835b",
   "metadata": {},
   "outputs": [
    {
     "data": {
      "text/plain": [
       "12.6"
      ]
     },
     "execution_count": 48,
     "metadata": {},
     "output_type": "execute_result"
    }
   ],
   "source": [
    "# Conversion Rate\n",
    "\n",
    "conversionRate=(completedOrders/users)*100\n",
    "conversionRate"
   ]
  },
  {
   "cell_type": "code",
   "execution_count": 49,
   "id": "9d4bc2be",
   "metadata": {},
   "outputs": [
    {
     "data": {
      "text/plain": [
       "23.400000000000002"
      ]
     },
     "execution_count": 49,
     "metadata": {},
     "output_type": "execute_result"
    }
   ],
   "source": [
    "#Funnel Rate\n",
    "\n",
    "funnelRate=(completedOrders/beginCheckout)*100\n",
    "funnelRate"
   ]
  },
  {
   "cell_type": "code",
   "execution_count": 50,
   "id": "f144a761",
   "metadata": {},
   "outputs": [
    {
     "data": {
      "text/plain": [
       "-0.7338860534398743"
      ]
     },
     "execution_count": 50,
     "metadata": {},
     "output_type": "execute_result"
    }
   ],
   "source": [
    "#Return on AD Spend\n",
    "\n",
    "ROAS=(totalRevenue-adSpend)/adSpend\n",
    "ROAS"
   ]
  },
  {
   "cell_type": "code",
   "execution_count": 51,
   "id": "cc9c313e",
   "metadata": {},
   "outputs": [
    {
     "data": {
      "text/plain": [
       "10.552197802197803"
      ]
     },
     "execution_count": 51,
     "metadata": {},
     "output_type": "execute_result"
    }
   ],
   "source": [
    "#Average order value\n",
    "\n",
    "AOV=totalRevenue/completedOrders\n",
    "AOV"
   ]
  },
  {
   "cell_type": "code",
   "execution_count": 52,
   "id": "f51b911f",
   "metadata": {},
   "outputs": [
    {
     "name": "stdout",
     "output_type": "stream",
     "text": [
      "churn rate equals to:  0.06239388794567063\n",
      "average lifespan of users equals to:  16.027210884353742\n",
      "Customers Lifetime Values equals to:  85029.99547590048\n"
     ]
    }
   ],
   "source": [
    "#Customer Lifetime Value\n",
    "\n",
    "averagePurchaseFrequency=completedOrders/uniqueUsers\n",
    "\n",
    "#at the start of the week there were 2356 users and by the end of the week there were 2209 users\n",
    "\n",
    "churnRate=(2356-2209)/2356\n",
    "averageCustomerLifespan=1/churnRate\n",
    "CLTV=totalRevenue*averagePurchaseFrequency*averageCustomerLifespan\n",
    "\n",
    "print(\"churn rate equals to: \",churnRate)\n",
    "print(\"average lifespan of users equals to: \",averageCustomerLifespan)\n",
    "print(\"Customers Lifetime Values equals to: \",CLTV)"
   ]
  },
  {
   "cell_type": "code",
   "execution_count": null,
   "id": "113e9612",
   "metadata": {},
   "outputs": [],
   "source": [
    "from google.auth import exceptions\n",
    "from google.oauth2 import service_account\n",
    "from google.analytics.data_v1beta import BetaAnalyticsDataClient\n",
    "from google.analytics.data_v1beta import DateRange\n",
    "from google.analytics.data_v1beta import Dimension\n",
    "from google.analytics.data_v1beta import Metric\n",
    "from google.analytics.data_v1beta import RunReportRequest\n",
    "\n",
    "# Replace with your own GA4 property ID\n",
    "property_id = 'YOUR_PROPERTY_ID'\n",
    "\n",
    "# Replace with the path to your service account key JSON file\n",
    "credentials_path = 'path/to/service_account_key.json'\n",
    "\n",
    "# Set the date range for the report\n",
    "start_date = '2022-01-01'\n",
    "end_date = '2022-12-31'\n",
    "\n",
    "# Set the dimensions and metrics to retrieve\n",
    "dimensions = [\n",
    "    Dimension(name='date'),\n",
    "]\n",
    "metrics = [\n",
    "    Metric(name='sessions'),\n",
    "    Metric(name='users'),\n",
    "    Metric(name='newUsers'),\n",
    "    Metric(name='totalBounces'),\n",
    "    Metric(name='beginCheckout'),\n",
    "    Metric(name='completedOrders'),\n",
    "    Metric(name='totalRevenue'),\n",
    "    Metric(name='organicSessions'),\n",
    "    Metric(name='paidSessions'),\n",
    "    Metric(name='referralSessions'),\n",
    "    Metric(name='socialSessions'),\n",
    "    Metric(name='organicPurchase'),\n",
    "    Metric(name='paidPurchase'),\n",
    "    Metric(name='referralPurchase'),\n",
    "    Metric(name='socialPurchase'),\n",
    "    Metric(name='adSpend'),\n",
    "]\n",
    "\n",
    "# Create a service account credentials object\n",
    "try:\n",
    "    credentials = service_account.Credentials.from_service_account_file(credentials_path)\n",
    "except exceptions.DefaultCredentialsError:\n",
    "    print('Error: Unable to load service account credentials.')\n",
    "    exit(1)\n",
    "\n",
    "# Create a Google Analytics Data API client\n",
    "client = BetaAnalyticsDataClient(credentials=credentials)\n",
    "\n",
    "# Create a request to fetch the report\n",
    "request = RunReportRequest(\n",
    "    property=f'properties/{property_id}',\n",
    "    dimensions=dimensions,\n",
    "    metrics=metrics,\n",
    "    date_ranges=[DateRange(start_date=start_date, end_date=end_date)],\n",
    ")\n",
    "\n",
    "# Fetch the report\n",
    "try:\n",
    "    response = client.run_report(request)\n",
    "except exceptions.GoogleAuthError:\n",
    "    print('Error: Google Analytics API authorization failed.')\n",
    "    exit(1)\n",
    "\n",
    "# Extract the metric values from the report\n",
    "metric_values = response.rows[0].metrics[0].values\n",
    "\n",
    "# Assign the metric values to the variables\n",
    "sessions = int(metric_values[0])\n",
    "users = int(metric_values[1])\n",
    "newUsers = int(metric_values[2])\n",
    "totalBounces = int(metric_values[3])\n",
    "beginCheckout = int(metric_values[4])\n",
    "completedOrders = int(metric_values[5])\n",
    "totalRevenue = float(metric_values[6])\n",
    "organicSessions = int(metric_values[7])\n",
    "paidSessions = int(metric_values[8])\n",
    "referralSessions = int(metric_values[9])\n",
    "socialSessions = int(metric_values[10])\n",
    "organicPurchase = int(metric_values[11])\n",
    "paidPurchase = int(metric_values[12])\n",
    "referralPurchase = int(metric_values[13])\n",
    "socialPurchase = int(metric_values[14])\n",
    "adSpend = float(metric_values[15])\n",
    "\n",
    "# Print the fetched values\n",
    "print('Fetched values:')\n",
    "print(f'Sessions: {sessions}')\n",
    "print(f'Users: {users}')\n",
    "print(f'New Users: {newUsers}')\n",
    "print(f'Total Bounces: {totalBounces}')\n",
    "print(f'Begin Checkout: {beginCheckout}')\n",
    "print(f'Completed Orders: {completedOrders}')\n",
    "print(f'Total Revenue: {totalRevenue}')\n",
    "print(f'Organic Sessions: {organicSessions}')\n",
    "print(f'Paid Sessions: {paidSessions}')\n",
    "print(f'Referral Sessions: {referralSessions}')\n",
    "print(f'Social Sessions: {socialSessions}')\n",
    "print(f'Organic Purchase: {organicPurchase}')\n",
    "print(f'Paid Purchase: {paidPurchase}')\n",
    "print(f'Referral Purchase: {referralPurchase}')\n",
    "print(f'Social Purchase: {socialPurchase}')\n",
    "print(f'Ad Spend: {adSpend}')"
   ]
  }
 ],
 "metadata": {
  "kernelspec": {
   "display_name": "Python 3 (ipykernel)",
   "language": "python",
   "name": "python3"
  },
  "language_info": {
   "codemirror_mode": {
    "name": "ipython",
    "version": 3
   },
   "file_extension": ".py",
   "mimetype": "text/x-python",
   "name": "python",
   "nbconvert_exporter": "python",
   "pygments_lexer": "ipython3",
   "version": "3.10.6"
  }
 },
 "nbformat": 4,
 "nbformat_minor": 5
}
