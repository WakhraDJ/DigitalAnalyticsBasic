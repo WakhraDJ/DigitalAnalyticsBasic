{
 "cells": [
  {
   "cell_type": "code",
   "execution_count": 45,
   "id": "b70f24c5",
   "metadata": {},
   "outputs": [],
   "source": [
    "import numpy as np\n",
    "import pandas as pd"
   ]
  },
  {
   "cell_type": "code",
   "execution_count": 46,
   "id": "593aae55",
   "metadata": {},
   "outputs": [],
   "source": [
    "#Set Variables \n",
    "\n",
    "sessions=30000\n",
    "users=26000\n",
    "newUsers=14659\n",
    "uniqueUsers=21346\n",
    "totalBounces=2300\n",
    "beginCheckout=14000\n",
    "completedOrders=3276\n",
    "totalRevenue=34569\n",
    "organicSessions=19000\n",
    "paidSessions=7000\n",
    "referralSessions=3000\n",
    "socialSessions=1000\n",
    "organicPurchase=19000\n",
    "paidPurchase=7000\n",
    "referralPurchase=3000\n",
    "socialPurchase=1000\n",
    "adSpend=129903"
   ]
  },
  {
   "cell_type": "code",
   "execution_count": 47,
   "id": "0f1174f1",
   "metadata": {},
   "outputs": [
    {
     "data": {
      "text/plain": [
       "7.666666666666666"
      ]
     },
     "execution_count": 47,
     "metadata": {},
     "output_type": "execute_result"
    }
   ],
   "source": [
    "#Now Let's start with basics:\n",
    "\n",
    "\n",
    "#Bounce rate\n",
    "\n",
    "bounceRate = (totalBounces/sessions)*100\n",
    "bounceRate"
   ]
  },
  {
   "cell_type": "code",
   "execution_count": 48,
   "id": "d35d835b",
   "metadata": {},
   "outputs": [
    {
     "data": {
      "text/plain": [
       "12.6"
      ]
     },
     "execution_count": 48,
     "metadata": {},
     "output_type": "execute_result"
    }
   ],
   "source": [
    "# Conversion Rate\n",
    "\n",
    "conversionRate=(completedOrders/users)*100\n",
    "conversionRate"
   ]
  },
  {
   "cell_type": "code",
   "execution_count": 49,
   "id": "9d4bc2be",
   "metadata": {},
   "outputs": [
    {
     "data": {
      "text/plain": [
       "23.400000000000002"
      ]
     },
     "execution_count": 49,
     "metadata": {},
     "output_type": "execute_result"
    }
   ],
   "source": [
    "#Funnel Rate\n",
    "\n",
    "funnelRate=(completedOrders/beginCheckout)*100\n",
    "funnelRate"
   ]
  },
  {
   "cell_type": "code",
   "execution_count": 50,
   "id": "f144a761",
   "metadata": {},
   "outputs": [
    {
     "data": {
      "text/plain": [
       "-0.7338860534398743"
      ]
     },
     "execution_count": 50,
     "metadata": {},
     "output_type": "execute_result"
    }
   ],
   "source": [
    "#Return on AD Spend\n",
    "\n",
    "ROAS=(totalRevenue-adSpend)/adSpend\n",
    "ROAS"
   ]
  },
  {
   "cell_type": "code",
   "execution_count": 51,
   "id": "cc9c313e",
   "metadata": {},
   "outputs": [
    {
     "data": {
      "text/plain": [
       "10.552197802197803"
      ]
     },
     "execution_count": 51,
     "metadata": {},
     "output_type": "execute_result"
    }
   ],
   "source": [
    "#Average order value\n",
    "\n",
    "AOV=totalRevenue/completedOrders\n",
    "AOV"
   ]
  },
  {
   "cell_type": "code",
   "execution_count": 52,
   "id": "f51b911f",
   "metadata": {},
   "outputs": [
    {
     "name": "stdout",
     "output_type": "stream",
     "text": [
      "churn rate equals to:  0.06239388794567063\n",
      "average lifespan of users equals to:  16.027210884353742\n",
      "Customers Lifetime Values equals to:  85029.99547590048\n"
     ]
    }
   ],
   "source": [
    "#Customer Lifetime Value\n",
    "\n",
    "averagePurchaseFrequency=completedOrders/uniqueUsers\n",
    "\n",
    "#at the start of the week there were 2356 users and by the end of the week there were 2209 users\n",
    "\n",
    "churnRate=(2356-2209)/2356\n",
    "averageCustomerLifespan=1/churnRate\n",
    "CLTV=totalRevenue*averagePurchaseFrequency*averageCustomerLifespan\n",
    "\n",
    "print(\"churn rate equals to: \",churnRate)\n",
    "print(\"average lifespan of users equals to: \",averageCustomerLifespan)\n",
    "print(\"Customers Lifetime Values equals to: \",CLTV)"
   ]
  },
  {
   "cell_type": "code",
   "execution_count": null,
   "id": "113e9612",
   "metadata": {},
   "outputs": [],
   "source": []
  }
 ],
 "metadata": {
  "kernelspec": {
   "display_name": "Python 3 (ipykernel)",
   "language": "python",
   "name": "python3"
  },
  "language_info": {
   "codemirror_mode": {
    "name": "ipython",
    "version": 3
   },
   "file_extension": ".py",
   "mimetype": "text/x-python",
   "name": "python",
   "nbconvert_exporter": "python",
   "pygments_lexer": "ipython3",
   "version": "3.10.6"
  }
 },
 "nbformat": 4,
 "nbformat_minor": 5
}
